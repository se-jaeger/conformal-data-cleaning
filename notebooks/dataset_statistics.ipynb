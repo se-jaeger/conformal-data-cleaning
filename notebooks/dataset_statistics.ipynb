{
 "cells": [
  {
   "cell_type": "code",
   "execution_count": null,
   "metadata": {},
   "outputs": [],
   "source": [
    "import pandas as pd\n",
    "\n",
    "from conformal_data_cleaning.data import _ID_TO_TASK_TYPE, AVAILABLE_DATASETS\n",
    "from conformal_data_cleaning.jenga_extension import get_OpenMLTask"
   ]
  },
  {
   "cell_type": "code",
   "execution_count": null,
   "metadata": {},
   "outputs": [],
   "source": [
    "dataset_statistics = []\n",
    "\n",
    "for task_id in AVAILABLE_DATASETS:\n",
    "    open_ml_task = get_OpenMLTask(task_id=task_id)\n",
    "\n",
    "    X = pd.concat([open_ml_task.train_data, open_ml_task.test_data])\n",
    "    dataset_statistics.append(\n",
    "        (\n",
    "            task_id,\n",
    "            _ID_TO_TASK_TYPE[task_id].value,\n",
    "            len(open_ml_task.categorical_columns),\n",
    "            len(open_ml_task.numerical_columns),\n",
    "            len(X),\n",
    "            X.size,\n",
    "        ),\n",
    "    )\n",
    "\n",
    "dataset_statistics = pd.DataFrame(\n",
    "    dataset_statistics,\n",
    "    columns=[\"ID\", \"Task Type\", r\"\\#Cat.\", r\"\\#Num.\", r\"\\#Obs.\", r\"\\#Cells\"],\n",
    ").sort_values([\"Task Type\", \"ID\"])"
   ]
  },
  {
   "cell_type": "markdown",
   "metadata": {},
   "source": [
    "## Removing Datasets\n",
    "\n",
    "Following definition in:\n",
    "```\n",
    "Grinsztajn, L., Oyallon, E., & Varoquaux, G. (2022). Why do tree-based models still outperform deep learning on tabular data? ArXiv, abs/2207.08815.\n",
    "```"
   ]
  },
  {
   "cell_type": "code",
   "execution_count": null,
   "metadata": {},
   "outputs": [],
   "source": [
    "dataset_descriptions = pd.read_csv(\"../data/dataset_descriptions.csv\").convert_dtypes().set_index(\"task_id\")\n",
    "tabular_task_id = dataset_descriptions[dataset_descriptions[\"tabular\"]].index\n",
    "\n",
    "dataset_statistics = dataset_statistics.query(\"ID in @tabular_task_id\").assign(\n",
    "    Garf=lambda df: df[\"ID\"].isin([4135, 251, 1200, 218, 1046]),\n",
    ")"
   ]
  },
  {
   "cell_type": "code",
   "execution_count": null,
   "metadata": {},
   "outputs": [],
   "source": [
    "caption = r\"Datasets overview. \\emph{ID} is the assigned OpenML id, \\emph{\\#} means the number of, \\emph{Cat.} and \\emph{Num.} stand for categorical and numerical columns, and \\emph{Obs.} means observations, i.e., the number of rows of the tabular dataset. \\emph{Garf} shows whether or not Garf was able to clean the dataset.\"\n",
    "\n",
    "formatters = {\n",
    "    r\"\\#Obs.\": lambda x: f\"${x:,}$\",\n",
    "    r\"\\#Cells\": lambda x: f\"${x:,}$\",\n",
    "    r\"\\#Cat.\": lambda x: f\"${x}$\",\n",
    "    r\"\\#Num.\": lambda x: f\"${x}$\",\n",
    "    \"ID\": lambda x: f\"${x}$\",\n",
    "    \"Garf\": lambda x: \"\\\\ding{55}\" if x else \"\\\\ding{51}\",\n",
    "}\n",
    "\n",
    "\n",
    "print(\n",
    "    dataset_statistics.replace({\"multi_class\": \"Multi Class\", \"regression\": \"Regression\", \"binary\": \"Binary\"})\n",
    "    .style.format(\n",
    "        formatters,\n",
    "    )\n",
    "    .hide(axis=\"index\")\n",
    "    .to_latex(\n",
    "        caption=caption,\n",
    "        label=\"tab:datasets\",\n",
    "        position=\"h\",\n",
    "    ),\n",
    ")"
   ]
  }
 ],
 "metadata": {
  "interpreter": {
   "hash": "d1e079ba1052bcc85be9b78b3c72bf03a4d015549529e67f43de37f743ce1597"
  },
  "kernelspec": {
   "display_name": "Python 3.9.13 ('conformal-data-cleaning-z_iY5k30-py3.9')",
   "language": "python",
   "name": "python3"
  },
  "language_info": {
   "codemirror_mode": {
    "name": "ipython",
    "version": 3
   },
   "file_extension": ".py",
   "mimetype": "text/x-python",
   "name": "python",
   "nbconvert_exporter": "python",
   "pygments_lexer": "ipython3",
   "version": "3.9.18"
  },
  "orig_nbformat": 4
 },
 "nbformat": 4,
 "nbformat_minor": 2
}
