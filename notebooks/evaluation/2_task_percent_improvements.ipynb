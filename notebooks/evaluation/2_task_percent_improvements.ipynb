{
 "cells": [
  {
   "cell_type": "code",
   "execution_count": null,
   "id": "15ad0c0c-a618-4f8c-80c4-47af2f0d21bf",
   "metadata": {},
   "outputs": [],
   "source": [
    "from pathlib import Path\n",
    "\n",
    "import pandas as pd\n",
    "\n",
    "from conformal_data_cleaning.data import _ID_TO_TASK_TYPE\n",
    "from conformal_data_cleaning.evaluation.utils import calculate_percent_improvements"
   ]
  },
  {
   "cell_type": "code",
   "execution_count": null,
   "id": "5a1d0609-8b36-437f-a5e4-f7e631ea0c0b",
   "metadata": {},
   "outputs": [],
   "source": [
    "processed_path = Path(\"../../processed\")\n",
    "results_file = processed_path / \"final-experiments\" / \"results_cache.csv\""
   ]
  },
  {
   "cell_type": "code",
   "execution_count": null,
   "metadata": {},
   "outputs": [],
   "source": [
    "results: pd.DataFrame = (\n",
    "    pd.read_csv(results_file)\n",
    "    .convert_dtypes()\n",
    "    .query(\"cleaner_type == 'ConformalAutoGluon'\")\n",
    "    .copy()\n",
    "    .drop(columns=\"cleaner_type\")\n",
    "    .rename(columns={\"confidence_level\": \"hyperparameter\"})\n",
    ")\n",
    "baseline_garf_results: pd.DataFrame = (\n",
    "    pd.read_csv(results_file)\n",
    "    .convert_dtypes()\n",
    "    .query(\"cleaner_type == 'Garf'\")\n",
    "    .copy()\n",
    "    .drop(columns=\"cleaner_type\")\n",
    "    .rename(columns={\"confidence_level\": \"hyperparameter\"})\n",
    ")\n",
    "baseline_ml_results: pd.DataFrame = (\n",
    "    pd.read_csv(results_file)\n",
    "    .convert_dtypes()\n",
    "    .query(\"cleaner_type == 'AutoGluon'\")\n",
    "    .copy()\n",
    "    .drop(columns=\"cleaner_type\")\n",
    "    .rename(columns={\"confidence_level\": \"hyperparameter\"})\n",
    ")"
   ]
  },
  {
   "cell_type": "markdown",
   "metadata": {},
   "source": [
    "# How often (in %) improves cleaning the downstream performance\n",
    "\n",
    "\n",
    "## Additionally Group by Downstream Task"
   ]
  },
  {
   "cell_type": "code",
   "execution_count": null,
   "metadata": {},
   "outputs": [],
   "source": [
    "apply_function = calculate_percent_improvements\n",
    "\n",
    "pd.concat(\n",
    "    {\n",
    "        \"baseline_garf\": baseline_garf_results.groupby(\"task_type\").apply(\n",
    "            lambda x: x.groupby(\"hyperparameter\").apply(apply_function),\n",
    "        ),\n",
    "        \"baseline_ml\": baseline_ml_results.groupby(\"task_type\").apply(\n",
    "            lambda x: x.groupby(\"hyperparameter\").apply(apply_function),\n",
    "        ),\n",
    "        \"conformal_cleaning\": results.groupby(\"task_type\").apply(\n",
    "            lambda x: x.groupby(\"hyperparameter\").apply(apply_function),\n",
    "        ),\n",
    "    },\n",
    "    axis=\"columns\",\n",
    ").style.highlight_max(axis=1, color=\"green\")"
   ]
  },
  {
   "cell_type": "markdown",
   "metadata": {},
   "source": [
    "## Group By Task ID"
   ]
  },
  {
   "cell_type": "code",
   "execution_count": null,
   "metadata": {},
   "outputs": [],
   "source": [
    "apply_function = calculate_percent_improvements\n",
    "\n",
    "(\n",
    "    pd.concat(\n",
    "        {\n",
    "            \"baseline_garf\": baseline_garf_results.groupby(\"task_id\").apply(\n",
    "                lambda x: x.groupby(\"hyperparameter\").apply(apply_function),\n",
    "            ),\n",
    "            \"baseline_ml\": baseline_ml_results.groupby(\"task_id\").apply(\n",
    "                lambda x: x.groupby(\"hyperparameter\").apply(apply_function),\n",
    "            ),\n",
    "            \"conformal_cleaning\": results.groupby(\"task_id\").apply(\n",
    "                lambda x: x.groupby(\"hyperparameter\").apply(apply_function),\n",
    "            ),\n",
    "        },\n",
    "        axis=\"columns\",\n",
    "    )\n",
    "    .sort_values((\"baseline_ml\", 0.5))\n",
    "    .assign(task_type=lambda df: [_ID_TO_TASK_TYPE[x].value for x in df.index])\n",
    "    .style.background_gradient(cmap=\"RdYlGn\", vmin=0, vmax=100, axis=1)\n",
    "    .format(precision=2)\n",
    ")"
   ]
  },
  {
   "cell_type": "markdown",
   "metadata": {},
   "source": [
    "# Quantiles over 'Percentage Improvements per Dataset'\n",
    "\n",
    "In general, quantiles represent how many percent of the numbers are equal or less than the given value ($\\hat{y}$).\n",
    "Here, it shows in how many percent of the datasets (*quantile*) applying cleaning increases the downstream performance in max $\\hat{y}$% of the cases (error type and fraction combinations). Vice versa, in $1 - quantile$ of the datasets we can expect improvement in at least $\\hat{y}$% of the cases."
   ]
  },
  {
   "cell_type": "code",
   "execution_count": null,
   "metadata": {},
   "outputs": [],
   "source": [
    "apply_function = calculate_percent_improvements\n",
    "\n",
    "(\n",
    "    pd.concat(\n",
    "        {\n",
    "            \"baseline_garf\": baseline_garf_results.groupby(\"task_id\").apply(\n",
    "                lambda x: x.groupby(\"hyperparameter\").apply(apply_function),\n",
    "            ),\n",
    "            \"baseline_ml\": baseline_ml_results.groupby(\"task_id\").apply(\n",
    "                lambda x: x.groupby(\"hyperparameter\").apply(apply_function),\n",
    "            ),\n",
    "            \"conformal_cleaning\": results.groupby(\"task_id\").apply(\n",
    "                lambda x: x.groupby(\"hyperparameter\").apply(apply_function),\n",
    "            ),\n",
    "        },\n",
    "        axis=\"columns\",\n",
    "    )\n",
    "    .sort_values((\"baseline_ml\", 0.5))\n",
    "    .quantile((0.25, 0.5, 0.75))\n",
    "    .style.highlight_max(color=\"green\", axis=1)\n",
    ")"
   ]
  }
 ],
 "metadata": {
  "kernelspec": {
   "display_name": "Python 3.9.15 ('conformal-data-cleaning-z_iY5k30-py3.9')",
   "language": "python",
   "name": "python3"
  },
  "language_info": {
   "codemirror_mode": {
    "name": "ipython",
    "version": 3
   },
   "file_extension": ".py",
   "mimetype": "text/x-python",
   "name": "python",
   "nbconvert_exporter": "python",
   "pygments_lexer": "ipython3",
   "version": "3.9.18"
  },
  "orig_nbformat": 4,
  "vscode": {
   "interpreter": {
    "hash": "d1e079ba1052bcc85be9b78b3c72bf03a4d015549529e67f43de37f743ce1597"
   }
  }
 },
 "nbformat": 4,
 "nbformat_minor": 2
}
