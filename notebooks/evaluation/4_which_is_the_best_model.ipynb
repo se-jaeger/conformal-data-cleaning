{
 "cells": [
  {
   "cell_type": "code",
   "execution_count": null,
   "metadata": {},
   "outputs": [],
   "source": [
    "from pathlib import Path\n",
    "\n",
    "import pandas as pd"
   ]
  },
  {
   "cell_type": "code",
   "execution_count": null,
   "metadata": {},
   "outputs": [],
   "source": [
    "processed_path = Path(\"../../processed\")\n",
    "models_leaderboard_cache_file = processed_path / \"models_leaderboard_cache.csv\"\n",
    "\n",
    "models_leaderboard = pd.read_csv(models_leaderboard_cache_file)"
   ]
  },
  {
   "cell_type": "markdown",
   "metadata": {},
   "source": [
    "# Which model type is on average the best choice\n",
    "\n",
    "We use Random Search with a budget of 50 trials to optimize the hyperparameters of the models. For this, we use autogluon`s default search grid of the following models\n",
    "- FastAI Neural Network\n",
    "- Random Forest\n",
    "- Extremely Randomized Trees"
   ]
  },
  {
   "cell_type": "code",
   "execution_count": null,
   "metadata": {},
   "outputs": [],
   "source": [
    "models_leaderboard.query(\"cleaner_type=='ConformalAutoGluon'\").pipe(\n",
    "    lambda df: df.value_counts([\"model_type\"]) / len(df) * 100,\n",
    ")"
   ]
  },
  {
   "cell_type": "code",
   "execution_count": null,
   "metadata": {},
   "outputs": [],
   "source": [
    "models_leaderboard.query(\"cleaner_type=='AutoGluon'\").pipe(lambda df: df.value_counts([\"model_type\"]) / len(df) * 100)"
   ]
  },
  {
   "cell_type": "code",
   "execution_count": null,
   "metadata": {},
   "outputs": [],
   "source": [
    "models_leaderboard.groupby([\"model_type\", \"cleaner_type\"])[\"fit_time\"].describe()"
   ]
  }
 ],
 "metadata": {
  "kernelspec": {
   "display_name": "Python 3.9.15 ('conformal-data-cleaning-z_iY5k30-py3.9')",
   "language": "python",
   "name": "python3"
  },
  "language_info": {
   "codemirror_mode": {
    "name": "ipython",
    "version": 3
   },
   "file_extension": ".py",
   "mimetype": "text/x-python",
   "name": "python",
   "nbconvert_exporter": "python",
   "pygments_lexer": "ipython3",
   "version": "3.9.18"
  },
  "orig_nbformat": 4,
  "vscode": {
   "interpreter": {
    "hash": "d1e079ba1052bcc85be9b78b3c72bf03a4d015549529e67f43de37f743ce1597"
   }
  }
 },
 "nbformat": 4,
 "nbformat_minor": 2
}
